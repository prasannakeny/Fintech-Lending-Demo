{
 "cells": [
  {
   "cell_type": "code",
   "execution_count": null,
   "id": "559af7db-88aa-46e8-9208-5d1d99fb28b0",
   "metadata": {},
   "outputs": [],
   "source": [
    "import pandas as pd\n",
    "import xgboost as xgb\n",
    "import numpy as np\n",
    "import collections\n",
    "import witwidget\n",
    "\n",
    "from sklearn.model_selection import train_test_split\n",
    "from sklearn.metrics import accuracy_score, confusion_matrix\n",
    "from sklearn.utils import shuffle\n"
   ]
  },
  {
   "cell_type": "markdown",
   "id": "32c9e120-81d4-42b7-b477-e0ea2db62616",
   "metadata": {},
   "source": [
    "# Read the dataset with Pandas"
   ]
  },
  {
   "cell_type": "code",
   "execution_count": null,
   "id": "7ec5618d-7593-434b-96e7-d5b8105a0e6c",
   "metadata": {},
   "outputs": [],
   "source": [
    "from google.cloud.bigquery import Client, QueryJobConfig\n",
    "client = Client()\n",
    "\n",
    "query = \"\"\"SELECT * FROM `<<project-name>>.<<dataset-name>>.loans-data`\"\"\"\n",
    "job = client.query(query)\n",
    "df = job.to_dataframe()\n",
    "\n",
    "df.head()"
   ]
  },
  {
   "cell_type": "code",
   "execution_count": null,
   "id": "37764fcf-a50c-47ea-adf0-5f415faee49a",
   "metadata": {},
   "outputs": [],
   "source": [
    "COLUMN_NAMES = collections.OrderedDict({\n",
    "    'Gender': 'category',\n",
    "    'Married': 'category',\n",
    "    'Dependents' : np.int64,\n",
    "    'Education' : 'category',\n",
    "    'Self_Employed' : 'category',\n",
    "    'ApplicantIncome' : np.float64,\n",
    "    'CoapplicantIncome' : np.float64,\n",
    "    'LoanAmount' : np.float64,\n",
    "    'Loan_Amount_Term' : np.int64,\n",
    "    'Credit_History' : 'category',\n",
    "    'Property_Area' : 'category',\n",
    "    'Loan_Status' : np.int64,\n",
    "    'Avg_Monthly_Bal' : np.float64\n",
    "})"
   ]
  },
  {
   "cell_type": "code",
   "execution_count": null,
   "id": "e1e0e682-81fd-4b7d-88eb-86913e618245",
   "metadata": {},
   "outputs": [],
   "source": [
    "data = pd.read_csv(\n",
    " 'loans-data.csv',\n",
    " index_col=False,\n",
    " dtype=COLUMN_NAMES\n",
    ")\n",
    "\n",
    "data = shuffle(data, random_state=2)\n",
    "data.head()"
   ]
  },
  {
   "cell_type": "code",
   "execution_count": null,
   "id": "98c3cfdf-c263-4605-84d3-429ab996ec45",
   "metadata": {},
   "outputs": [],
   "source": [
    "print(data['Loan_Status'].value_counts())\n",
    "\n",
    "labels = data['Loan_Status'].values\n",
    "data = data.drop(columns=['Loan_Status'])"
   ]
  },
  {
   "cell_type": "markdown",
   "id": "71c1224b-96ea-430b-87a4-8339dc1a2336",
   "metadata": {},
   "source": [
    "# Create dummy column for categorical values"
   ]
  },
  {
   "cell_type": "code",
   "execution_count": null,
   "id": "2fea254c-929e-4461-9296-c060ee8c5e24",
   "metadata": {},
   "outputs": [],
   "source": [
    "dummy_columns = list(data.dtypes[data.dtypes == 'category'].index)\n",
    "data = pd.get_dummies(data, columns=dummy_columns)\n",
    "\n",
    "data.head()"
   ]
  },
  {
   "cell_type": "markdown",
   "id": "880fb322-dea6-4f72-9d87-0dbcd1a1e915",
   "metadata": {},
   "source": [
    "# Split data into train and test sets"
   ]
  },
  {
   "cell_type": "code",
   "execution_count": null,
   "id": "b9418f94-0a84-4f6e-ac00-63e4a4f3459a",
   "metadata": {},
   "outputs": [],
   "source": [
    "x,y = data.values,labels\n",
    "x_train,x_test,y_train,y_test = train_test_split(x,y)"
   ]
  },
  {
   "cell_type": "markdown",
   "id": "5a229082-f83d-4ba7-846c-f86acec40e96",
   "metadata": {},
   "source": [
    "# Build, train, and evaluate an XGBoost model"
   ]
  },
  {
   "cell_type": "code",
   "execution_count": null,
   "id": "f73d30a5-c21f-4c81-a726-623560d52e32",
   "metadata": {},
   "outputs": [],
   "source": [
    "model = xgb.XGBClassifier(\n",
    "    objective='reg:logistic'\n",
    ")"
   ]
  },
  {
   "cell_type": "code",
   "execution_count": null,
   "id": "3c70b2db-6677-4c0e-ac2f-fef7f88605ef",
   "metadata": {},
   "outputs": [],
   "source": [
    "model.fit(x_train, y_train)"
   ]
  },
  {
   "cell_type": "code",
   "execution_count": null,
   "id": "19da6219-54a7-4bb8-98b7-3d23ab224245",
   "metadata": {},
   "outputs": [],
   "source": [
    "y_pred = model.predict(x_test)\n",
    "acc = accuracy_score(y_test, y_pred.round())\n",
    "print(acc, '\\n')"
   ]
  },
  {
   "cell_type": "code",
   "execution_count": null,
   "id": "b140ac9c-b979-430c-ac9a-a1faf3b76d50",
   "metadata": {},
   "outputs": [],
   "source": [
    "model.save_model('model.bst')"
   ]
  },
  {
   "cell_type": "markdown",
   "id": "245d7f58-0527-4cfb-b104-ec516736450c",
   "metadata": {},
   "source": [
    "# Deploy model to Vertex AI"
   ]
  },
  {
   "cell_type": "code",
   "execution_count": null,
   "id": "1cf11f6f-2290-4b0e-8f2f-8db3472e9045",
   "metadata": {},
   "outputs": [],
   "source": [
    "# Update the variables below to your own Google Cloud project number and GCS bucket name. You can leave the model name we've specified below:\n",
    "GCP_PROJECT = << Enter GCP project number >>\n",
    "MODEL_BUCKET = << Enter GCS bucket URI >>\n",
    "MODEL_NAME = << Enter the name of the model >>"
   ]
  },
  {
   "cell_type": "code",
   "execution_count": null,
   "id": "ff6b5380-515a-4a4d-9243-84ab2cfcff00",
   "metadata": {},
   "outputs": [],
   "source": [
    "!gsutil cp ./model.bst $MODEL_BUCKET"
   ]
  },
  {
   "cell_type": "code",
   "execution_count": null,
   "id": "6f0c5aba-3bdb-4a59-9b96-1e9f5b047d63",
   "metadata": {},
   "outputs": [],
   "source": [
    "!gcloud beta ai models upload \\\n",
    "--display-name=$MODEL_NAME \\\n",
    "--artifact-uri=$MODEL_BUCKET \\\n",
    "--container-image-uri=us-docker.pkg.dev/cloud-aiplatform/prediction/xgboost-cpu.1-2:latest \\\n",
    "--region=us-central1"
   ]
  },
  {
   "cell_type": "code",
   "execution_count": null,
   "id": "9dd0dc77-a0cb-4967-acea-e3cfa1f6368e",
   "metadata": {},
   "outputs": [],
   "source": [
    "MODEL_ID = << Enter the model id >>"
   ]
  },
  {
   "cell_type": "code",
   "execution_count": null,
   "id": "80de7d4b-0640-49da-b69e-e38ed7f66f75",
   "metadata": {},
   "outputs": [],
   "source": [
    "!gcloud beta ai endpoints create \\\n",
    "--display-name=credit-scoring-xgb \\\n",
    "--region=us-central1"
   ]
  },
  {
   "cell_type": "code",
   "execution_count": null,
   "id": "2a4ac9f1-30b8-4ef0-a884-a09034d50034",
   "metadata": {},
   "outputs": [],
   "source": [
    "ENDPOINT_ID = << Enter the endpoint id >>"
   ]
  },
  {
   "cell_type": "code",
   "execution_count": null,
   "id": "de89db8c-ba02-4abd-bedb-d390f07bb3f4",
   "metadata": {},
   "outputs": [],
   "source": [
    "!gcloud beta ai endpoints deploy-model $ENDPOINT_ID \\\n",
    "--region=us-central1 \\\n",
    "--model=$MODEL_ID \\\n",
    "--display-name=loanmodel_v1 \\\n",
    "--machine-type=n1-standard-2 \\\n",
    "--traffic-split=0=100"
   ]
  },
  {
   "cell_type": "markdown",
   "id": "a01b7a04-fb09-4276-9262-7561aefe9661",
   "metadata": {},
   "source": [
    "# Test the deployed model"
   ]
  },
  {
   "cell_type": "code",
   "execution_count": null,
   "id": "e9dd1f3f-052c-4b46-b172-57240374bf23",
   "metadata": {},
   "outputs": [],
   "source": [
    "%%writefile predictions.json\n",
    "{\n",
    "  \"instances\": [\n",
    "    [0,200,100,30000,720,1000,1,0,0,1,0,1,1,0,1,0,0,1,0]\n",
    "  ]\n",
    "}"
   ]
  },
  {
   "cell_type": "code",
   "execution_count": null,
   "id": "32c6b883-f0a5-4061-a00a-6a98a1c48301",
   "metadata": {},
   "outputs": [],
   "source": [
    "!gcloud beta ai endpoints predict $ENDPOINT_ID \\\n",
    "--json-request=predictions.json \\\n",
    "--region=us-central1"
   ]
  },
  {
   "cell_type": "code",
   "execution_count": null,
   "id": "66ff0d6d-f5f3-4947-bd3d-9c45245e7fd2",
   "metadata": {},
   "outputs": [],
   "source": [
    "%%writefile predictions.json\n",
    "{\n",
    "  \"instances\": [\n",
    "    [0,2000,1000,100,6,50000,1,0,0,1,0,1,1,0,0,1,0,0,1]\n",
    "  ]\n",
    "}"
   ]
  },
  {
   "cell_type": "code",
   "execution_count": null,
   "id": "afbe48a6-b711-4621-9244-f47cf384f40f",
   "metadata": {},
   "outputs": [],
   "source": [
    "!gcloud beta ai endpoints predict $ENDPOINT_ID \\\n",
    "--json-request=predictions.json \\\n",
    "--region=us-central1"
   ]
  },
  {
   "cell_type": "code",
   "execution_count": null,
   "id": "1fb8fe1a-02ec-4466-93f4-981f3d5b9463",
   "metadata": {},
   "outputs": [],
   "source": []
  }
 ],
 "metadata": {
  "environment": {
   "kernel": "python3",
   "name": "tf2-gpu.2-11.m108",
   "type": "gcloud",
   "uri": "gcr.io/deeplearning-platform-release/tf2-gpu.2-11:m108"
  },
  "kernelspec": {
   "display_name": "Python 3 (ipykernel)",
   "language": "python",
   "name": "python3"
  },
  "language_info": {
   "codemirror_mode": {
    "name": "ipython",
    "version": 3
   },
   "file_extension": ".py",
   "mimetype": "text/x-python",
   "name": "python",
   "nbconvert_exporter": "python",
   "pygments_lexer": "ipython3",
   "version": "3.7.12"
  }
 },
 "nbformat": 4,
 "nbformat_minor": 5
}
